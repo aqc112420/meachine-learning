{
 "cells": [
  {
   "cell_type": "code",
   "execution_count": 2,
   "metadata": {
    "collapsed": false
   },
   "outputs": [
    {
     "name": "stdout",
     "output_type": "stream",
     "text": [
      "<class 'numpy.ndarray'>\n",
      "[['Year' 'WHO region' 'Country' 'Beverage Types' 'Display Value']\n",
      " ['1986' 'Western Pacific' 'Viet Nam' 'Wine' '0']\n",
      " ['1986' 'Americas' 'Uruguay' 'Other' '0.5']\n",
      " ...\n",
      " ['1987' 'Africa' 'Malawi' 'Other' '0.75']\n",
      " ['1989' 'Americas' 'Bahamas' 'Wine' '1.5']\n",
      " ['1985' 'Africa' 'Malawi' 'Spirits' '0.31']]\n",
      "Help on function genfromtxt in module numpy.lib.npyio:\n",
      "\n",
      "genfromtxt(fname, dtype=<class 'float'>, comments='#', delimiter=None, skip_header=0, skip_footer=0, converters=None, missing_values=None, filling_values=None, usecols=None, names=None, excludelist=None, deletechars=None, replace_space='_', autostrip=False, case_sensitive=True, defaultfmt='f%i', unpack=None, usemask=False, loose=True, invalid_raise=True, max_rows=None, encoding='bytes')\n",
      "    Load data from a text file, with missing values handled as specified.\n",
      "    \n",
      "    Each line past the first `skip_header` lines is split at the `delimiter`\n",
      "    character, and characters following the `comments` character are discarded.\n",
      "    \n",
      "    Parameters\n",
      "    ----------\n",
      "    fname : file, str, pathlib.Path, list of str, generator\n",
      "        File, filename, list, or generator to read.  If the filename\n",
      "        extension is `.gz` or `.bz2`, the file is first decompressed. Note\n",
      "        that generators must return byte strings in Python 3k.  The strings\n",
      "        in a list or produced by a generator are treated as lines.\n",
      "    dtype : dtype, optional\n",
      "        Data type of the resulting array.\n",
      "        If None, the dtypes will be determined by the contents of each\n",
      "        column, individually.\n",
      "    comments : str, optional\n",
      "        The character used to indicate the start of a comment.\n",
      "        All the characters occurring on a line after a comment are discarded\n",
      "    delimiter : str, int, or sequence, optional\n",
      "        The string used to separate values.  By default, any consecutive\n",
      "        whitespaces act as delimiter.  An integer or sequence of integers\n",
      "        can also be provided as width(s) of each field.\n",
      "    skiprows : int, optional\n",
      "        `skiprows` was removed in numpy 1.10. Please use `skip_header` instead.\n",
      "    skip_header : int, optional\n",
      "        The number of lines to skip at the beginning of the file.\n",
      "    skip_footer : int, optional\n",
      "        The number of lines to skip at the end of the file.\n",
      "    converters : variable, optional\n",
      "        The set of functions that convert the data of a column to a value.\n",
      "        The converters can also be used to provide a default value\n",
      "        for missing data: ``converters = {3: lambda s: float(s or 0)}``.\n",
      "    missing : variable, optional\n",
      "        `missing` was removed in numpy 1.10. Please use `missing_values`\n",
      "        instead.\n",
      "    missing_values : variable, optional\n",
      "        The set of strings corresponding to missing data.\n",
      "    filling_values : variable, optional\n",
      "        The set of values to be used as default when the data are missing.\n",
      "    usecols : sequence, optional\n",
      "        Which columns to read, with 0 being the first.  For example,\n",
      "        ``usecols = (1, 4, 5)`` will extract the 2nd, 5th and 6th columns.\n",
      "    names : {None, True, str, sequence}, optional\n",
      "        If `names` is True, the field names are read from the first line after\n",
      "        the first `skip_header` lines.  This line can optionally be proceeded\n",
      "        by a comment delimeter. If `names` is a sequence or a single-string of\n",
      "        comma-separated names, the names will be used to define the field names\n",
      "        in a structured dtype. If `names` is None, the names of the dtype\n",
      "        fields will be used, if any.\n",
      "    excludelist : sequence, optional\n",
      "        A list of names to exclude. This list is appended to the default list\n",
      "        ['return','file','print']. Excluded names are appended an underscore:\n",
      "        for example, `file` would become `file_`.\n",
      "    deletechars : str, optional\n",
      "        A string combining invalid characters that must be deleted from the\n",
      "        names.\n",
      "    defaultfmt : str, optional\n",
      "        A format used to define default field names, such as \"f%i\" or \"f_%02i\".\n",
      "    autostrip : bool, optional\n",
      "        Whether to automatically strip white spaces from the variables.\n",
      "    replace_space : char, optional\n",
      "        Character(s) used in replacement of white spaces in the variables\n",
      "        names. By default, use a '_'.\n",
      "    case_sensitive : {True, False, 'upper', 'lower'}, optional\n",
      "        If True, field names are case sensitive.\n",
      "        If False or 'upper', field names are converted to upper case.\n",
      "        If 'lower', field names are converted to lower case.\n",
      "    unpack : bool, optional\n",
      "        If True, the returned array is transposed, so that arguments may be\n",
      "        unpacked using ``x, y, z = loadtxt(...)``\n",
      "    usemask : bool, optional\n",
      "        If True, return a masked array.\n",
      "        If False, return a regular array.\n",
      "    loose : bool, optional\n",
      "        If True, do not raise errors for invalid values.\n",
      "    invalid_raise : bool, optional\n",
      "        If True, an exception is raised if an inconsistency is detected in the\n",
      "        number of columns.\n",
      "        If False, a warning is emitted and the offending lines are skipped.\n",
      "    max_rows : int,  optional\n",
      "        The maximum number of rows to read. Must not be used with skip_footer\n",
      "        at the same time.  If given, the value must be at least 1. Default is\n",
      "        to read the entire file.\n",
      "    \n",
      "        .. versionadded:: 1.10.0\n",
      "    encoding : str, optional\n",
      "        Encoding used to decode the inputfile. Does not apply when `fname` is\n",
      "        a file object.  The special value 'bytes' enables backward compatibility\n",
      "        workarounds that ensure that you receive byte arrays when possible\n",
      "        and passes latin1 encoded strings to converters. Override this value to\n",
      "        receive unicode arrays and pass strings as input to converters.  If set\n",
      "        to None the system default is used. The default value is 'bytes'.\n",
      "    \n",
      "        .. versionadded:: 1.14.0\n",
      "    \n",
      "    Returns\n",
      "    -------\n",
      "    out : ndarray\n",
      "        Data read from the text file. If `usemask` is True, this is a\n",
      "        masked array.\n",
      "    \n",
      "    See Also\n",
      "    --------\n",
      "    numpy.loadtxt : equivalent function when no data is missing.\n",
      "    \n",
      "    Notes\n",
      "    -----\n",
      "    * When spaces are used as delimiters, or when no delimiter has been given\n",
      "      as input, there should not be any missing data between two fields.\n",
      "    * When the variables are named (either by a flexible dtype or with `names`,\n",
      "      there must not be any header in the file (else a ValueError\n",
      "      exception is raised).\n",
      "    * Individual values are not stripped of spaces by default.\n",
      "      When using a custom converter, make sure the function does remove spaces.\n",
      "    \n",
      "    References\n",
      "    ----------\n",
      "    .. [1] NumPy User Guide, section `I/O with NumPy\n",
      "           <http://docs.scipy.org/doc/numpy/user/basics.io.genfromtxt.html>`_.\n",
      "    \n",
      "    Examples\n",
      "    ---------\n",
      "    >>> from io import StringIO\n",
      "    >>> import numpy as np\n",
      "    \n",
      "    Comma delimited file with mixed dtype\n",
      "    \n",
      "    >>> s = StringIO(\"1,1.3,abcde\")\n",
      "    >>> data = np.genfromtxt(s, dtype=[('myint','i8'),('myfloat','f8'),\n",
      "    ... ('mystring','S5')], delimiter=\",\")\n",
      "    >>> data\n",
      "    array((1, 1.3, 'abcde'),\n",
      "          dtype=[('myint', '<i8'), ('myfloat', '<f8'), ('mystring', '|S5')])\n",
      "    \n",
      "    Using dtype = None\n",
      "    \n",
      "    >>> s.seek(0) # needed for StringIO example only\n",
      "    >>> data = np.genfromtxt(s, dtype=None,\n",
      "    ... names = ['myint','myfloat','mystring'], delimiter=\",\")\n",
      "    >>> data\n",
      "    array((1, 1.3, 'abcde'),\n",
      "          dtype=[('myint', '<i8'), ('myfloat', '<f8'), ('mystring', '|S5')])\n",
      "    \n",
      "    Specifying dtype and names\n",
      "    \n",
      "    >>> s.seek(0)\n",
      "    >>> data = np.genfromtxt(s, dtype=\"i8,f8,S5\",\n",
      "    ... names=['myint','myfloat','mystring'], delimiter=\",\")\n",
      "    >>> data\n",
      "    array((1, 1.3, 'abcde'),\n",
      "          dtype=[('myint', '<i8'), ('myfloat', '<f8'), ('mystring', '|S5')])\n",
      "    \n",
      "    An example with fixed-width columns\n",
      "    \n",
      "    >>> s = StringIO(\"11.3abcde\")\n",
      "    >>> data = np.genfromtxt(s, dtype=None, names=['intvar','fltvar','strvar'],\n",
      "    ...     delimiter=[1,3,5])\n",
      "    >>> data\n",
      "    array((1, 1.3, 'abcde'),\n",
      "          dtype=[('intvar', '<i8'), ('fltvar', '<f8'), ('strvar', '|S5')])\n",
      "\n",
      "None\n"
     ]
    }
   ],
   "source": [
    "import numpy as np\n",
    "world_alcohol = np.genfromtxt(\"world_alcohol.txt\",delimiter=\",\",dtype=str)\n",
    "print(type(world_alcohol))\n",
    "print(world_alcohol)\n",
    "print(help(np.genfromtxt))\n",
    "\n"
   ]
  },
  {
   "cell_type": "code",
   "execution_count": 3,
   "metadata": {
    "collapsed": false
   },
   "outputs": [
    {
     "name": "stdout",
     "output_type": "stream",
     "text": [
      "[[1 2 3]\n",
      " [3 4 5]]\n"
     ]
    }
   ],
   "source": [
    "matrix = np.array([[1,2,3],[3,4,5]])\n",
    "print(matrix)"
   ]
  },
  {
   "cell_type": "code",
   "execution_count": 7,
   "metadata": {
    "collapsed": false
   },
   "outputs": [
    {
     "name": "stdout",
     "output_type": "stream",
     "text": [
      "[[1. 4. 1. 8.]\n",
      " [9. 6. 4. 2.]\n",
      " [7. 7. 9. 6.]]\n",
      "----------\n",
      "[1. 4. 1. 8. 9. 6. 4. 2. 7. 7. 9. 6.]\n",
      "----------\n",
      "[[1. 4.]\n",
      " [1. 8.]\n",
      " [9. 6.]\n",
      " [4. 2.]\n",
      " [7. 7.]\n",
      " [9. 6.]]\n",
      "----------\n",
      "[[1. 1. 9. 4. 7. 9.]\n",
      " [4. 8. 6. 2. 7. 6.]]\n"
     ]
    }
   ],
   "source": [
    "a = np.floor(10*np.random.random((3,4)))\n",
    "print(a)\n",
    "print(\"----------\")\n",
    "print(a.ravel())\n",
    "print(\"----------\")\n",
    "a.shape = (6,2)\n",
    "print(a)\n",
    "print(\"----------\")\n",
    "print(a.T)\n"
   ]
  },
  {
   "cell_type": "code",
   "execution_count": 8,
   "metadata": {
    "collapsed": false
   },
   "outputs": [
    {
     "name": "stdout",
     "output_type": "stream",
     "text": [
      "True\n",
      "(3, 4)\n",
      "1896217229232 1896217229232\n"
     ]
    }
   ],
   "source": [
    "a = np.arange(12)\n",
    "b = a\n",
    "print(b is a)\n",
    "b.shape = (3,4)\n",
    "print(a.shape)\n",
    "print(id(a),id(b))\n"
   ]
  },
  {
   "cell_type": "code",
   "execution_count": 9,
   "metadata": {
    "collapsed": false
   },
   "outputs": [
    {
     "name": "stdout",
     "output_type": "stream",
     "text": [
      "False\n",
      "(3, 4)\n",
      "[[  0   1   2   3]\n",
      " [123   5   6   7]\n",
      " [  8   9  10  11]]\n",
      "1896217229232\n",
      "1896217229952\n"
     ]
    }
   ],
   "source": [
    "#浅层复制地址不一样，但是公用一份数据，改变一个数值另一个也改变\n",
    "c = a.view()\n",
    "print(c is a)\n",
    "c.shape = (2,6)\n",
    "print(a.shape)\n",
    "c[0,4] = 123\n",
    "print(a)\n",
    "print(id(a))\n",
    "print(id(c))"
   ]
  },
  {
   "cell_type": "code",
   "execution_count": 15,
   "metadata": {
    "collapsed": false
   },
   "outputs": [
    {
     "name": "stdout",
     "output_type": "stream",
     "text": [
      "False\n",
      "1896217229232\n",
      "1896217228592\n"
     ]
    }
   ],
   "source": [
    "#\n",
    "d  = a.copy()\n",
    "print(d is a)\n",
    "d[0,0] = 22\n",
    "print(id(a))\n",
    "print(id(d))"
   ]
  },
  {
   "cell_type": "code",
   "execution_count": 16,
   "metadata": {
    "collapsed": false
   },
   "outputs": [
    {
     "name": "stdout",
     "output_type": "stream",
     "text": [
      "[[4 3 5]\n",
      " [1 2 1]]\n",
      "-------\n",
      "[[3 4 5]\n",
      " [1 1 2]]\n",
      "-------\n",
      "[[3 4 5]\n",
      " [1 1 2]]\n",
      "---------\n",
      "[2 3 1 0]\n",
      "-------\n",
      "[1 2 3 4]\n"
     ]
    }
   ],
   "source": [
    "a = np.array([[4,3,5],[1,2,1]])\n",
    "print(a)\n",
    "print(\"-------\")\n",
    "b = np.sort(a,axis=1)\n",
    "print(b)\n",
    "a.sort(axis=1)\n",
    "print(\"-------\")\n",
    "print(a)\n",
    "a = np.array([4,3,1,2])\n",
    "j = np.argsort(a)\n",
    "print(\"---------\")\n",
    "print(j)\n",
    "print(\"-------\")\n",
    "print(a[j])\n",
    "\n"
   ]
  },
  {
   "cell_type": "code",
   "execution_count": 17,
   "metadata": {
    "collapsed": true
   },
   "outputs": [],
   "source": [
    "import pandas as pd"
   ]
  },
  {
   "cell_type": "code",
   "execution_count": 20,
   "metadata": {
    "collapsed": false
   },
   "outputs": [
    {
     "name": "stdout",
     "output_type": "stream",
     "text": [
      "<class 'pandas.core.frame.DataFrame'>\n",
      "NDB_No               int64\n",
      "Shrt_Desc           object\n",
      "Water_(g)          float64\n",
      "Energ_Kcal           int64\n",
      "Protein_(g)        float64\n",
      "Lipid_Tot_(g)      float64\n",
      "Ash_(g)            float64\n",
      "Carbohydrt_(g)     float64\n",
      "Fiber_TD_(g)       float64\n",
      "Sugar_Tot_(g)      float64\n",
      "Calcium_(mg)       float64\n",
      "Iron_(mg)          float64\n",
      "Magnesium_(mg)     float64\n",
      "Phosphorus_(mg)    float64\n",
      "Potassium_(mg)     float64\n",
      "Sodium_(mg)        float64\n",
      "Zinc_(mg)          float64\n",
      "Copper_(mg)        float64\n",
      "Manganese_(mg)     float64\n",
      "Selenium_(mcg)     float64\n",
      "Vit_C_(mg)         float64\n",
      "Thiamin_(mg)       float64\n",
      "Riboflavin_(mg)    float64\n",
      "Niacin_(mg)        float64\n",
      "Vit_B6_(mg)        float64\n",
      "Vit_B12_(mcg)      float64\n",
      "Vit_A_IU           float64\n",
      "Vit_A_RAE          float64\n",
      "Vit_E_(mg)         float64\n",
      "Vit_D_mcg          float64\n",
      "Vit_D_IU           float64\n",
      "Vit_K_(mcg)        float64\n",
      "FA_Sat_(g)         float64\n",
      "FA_Mono_(g)        float64\n",
      "FA_Poly_(g)        float64\n",
      "Cholestrl_(mg)     float64\n",
      "dtype: object\n"
     ]
    }
   ],
   "source": [
    "food_info = pd.read_csv(\"food_info.csv\")\n",
    "print(type(food_info))\n",
    "print(food_info.dtypes)"
   ]
  },
  {
   "cell_type": "code",
   "execution_count": 23,
   "metadata": {
    "collapsed": false
   },
   "outputs": [
    {
     "name": "stdout",
     "output_type": "stream",
     "text": [
      "Index(['NDB_No', 'Shrt_Desc', 'Water_(g)', 'Energ_Kcal', 'Protein_(g)',\n",
      "       'Lipid_Tot_(g)', 'Ash_(g)', 'Carbohydrt_(g)', 'Fiber_TD_(g)',\n",
      "       'Sugar_Tot_(g)', 'Calcium_(mg)', 'Iron_(mg)', 'Magnesium_(mg)',\n",
      "       'Phosphorus_(mg)', 'Potassium_(mg)', 'Sodium_(mg)', 'Zinc_(mg)',\n",
      "       'Copper_(mg)', 'Manganese_(mg)', 'Selenium_(mcg)', 'Vit_C_(mg)',\n",
      "       'Thiamin_(mg)', 'Riboflavin_(mg)', 'Niacin_(mg)', 'Vit_B6_(mg)',\n",
      "       'Vit_B12_(mcg)', 'Vit_A_IU', 'Vit_A_RAE', 'Vit_E_(mg)', 'Vit_D_mcg',\n",
      "       'Vit_D_IU', 'Vit_K_(mcg)', 'FA_Sat_(g)', 'FA_Mono_(g)', 'FA_Poly_(g)',\n",
      "       'Cholestrl_(mg)'],\n",
      "      dtype='object')\n"
     ]
    }
   ],
   "source": [
    "# food_info.head(3)\n",
    "food_info.tail(3)\n",
    "print(food_info.columns)"
   ]
  },
  {
   "cell_type": "code",
   "execution_count": 24,
   "metadata": {
    "collapsed": false
   },
   "outputs": [
    {
     "name": "stdout",
     "output_type": "stream",
     "text": [
      "NDB_No                         1001\n",
      "Shrt_Desc          BUTTER WITH SALT\n",
      "Water_(g)                     15.87\n",
      "Energ_Kcal                      717\n",
      "Protein_(g)                    0.85\n",
      "Lipid_Tot_(g)                 81.11\n",
      "Ash_(g)                        2.11\n",
      "Carbohydrt_(g)                 0.06\n",
      "Fiber_TD_(g)                      0\n",
      "Sugar_Tot_(g)                  0.06\n",
      "Calcium_(mg)                     24\n",
      "Iron_(mg)                      0.02\n",
      "Magnesium_(mg)                    2\n",
      "Phosphorus_(mg)                  24\n",
      "Potassium_(mg)                   24\n",
      "Sodium_(mg)                     643\n",
      "Zinc_(mg)                      0.09\n",
      "Copper_(mg)                       0\n",
      "Manganese_(mg)                    0\n",
      "Selenium_(mcg)                    1\n",
      "Vit_C_(mg)                        0\n",
      "Thiamin_(mg)                  0.005\n",
      "Riboflavin_(mg)               0.034\n",
      "Niacin_(mg)                   0.042\n",
      "Vit_B6_(mg)                   0.003\n",
      "Vit_B12_(mcg)                  0.17\n",
      "Vit_A_IU                       2499\n",
      "Vit_A_RAE                       684\n",
      "Vit_E_(mg)                     2.32\n",
      "Vit_D_mcg                       1.5\n",
      "Vit_D_IU                         60\n",
      "Vit_K_(mcg)                       7\n",
      "FA_Sat_(g)                   51.368\n",
      "FA_Mono_(g)                  21.021\n",
      "FA_Poly_(g)                   3.043\n",
      "Cholestrl_(mg)                  215\n",
      "Name: 0, dtype: object\n"
     ]
    }
   ],
   "source": [
    "print(food_info.loc[0])"
   ]
  },
  {
   "cell_type": "code",
   "execution_count": 26,
   "metadata": {
    "collapsed": false
   },
   "outputs": [
    {
     "name": "stdout",
     "output_type": "stream",
     "text": [
      "0        1001\n",
      "1        1002\n",
      "2        1003\n",
      "3        1004\n",
      "4        1005\n",
      "5        1006\n",
      "6        1007\n",
      "7        1008\n",
      "8        1009\n",
      "9        1010\n",
      "10       1011\n",
      "11       1012\n",
      "12       1013\n",
      "13       1014\n",
      "14       1015\n",
      "15       1016\n",
      "16       1017\n",
      "17       1018\n",
      "18       1019\n",
      "19       1020\n",
      "20       1021\n",
      "21       1022\n",
      "22       1023\n",
      "23       1024\n",
      "24       1025\n",
      "25       1026\n",
      "26       1027\n",
      "27       1028\n",
      "28       1029\n",
      "29       1030\n",
      "        ...  \n",
      "8588    43544\n",
      "8589    43546\n",
      "8590    43550\n",
      "8591    43566\n",
      "8592    43570\n",
      "8593    43572\n",
      "8594    43585\n",
      "8595    43589\n",
      "8596    43595\n",
      "8597    43597\n",
      "8598    43598\n",
      "8599    44005\n",
      "8600    44018\n",
      "8601    44048\n",
      "8602    44055\n",
      "8603    44061\n",
      "8604    44074\n",
      "8605    44110\n",
      "8606    44158\n",
      "8607    44203\n",
      "8608    44258\n",
      "8609    44259\n",
      "8610    44260\n",
      "8611    48052\n",
      "8612    80200\n",
      "8613    83110\n",
      "8614    90240\n",
      "8615    90480\n",
      "8616    90560\n",
      "8617    93600\n",
      "Name: NDB_No, dtype: int64\n"
     ]
    }
   ],
   "source": [
    "ndb_col = food_info[\"NDB_No\"]\n",
    "print(ndb_col)"
   ]
  },
  {
   "cell_type": "code",
   "execution_count": 30,
   "metadata": {
    "collapsed": false
   },
   "outputs": [
    {
     "name": "stdout",
     "output_type": "stream",
     "text": [
      "['NDB_No', 'Shrt_Desc', 'Water_(g)', 'Energ_Kcal', 'Protein_(g)', 'Lipid_Tot_(g)', 'Ash_(g)', 'Carbohydrt_(g)', 'Fiber_TD_(g)', 'Sugar_Tot_(g)', 'Calcium_(mg)', 'Iron_(mg)', 'Magnesium_(mg)', 'Phosphorus_(mg)', 'Potassium_(mg)', 'Sodium_(mg)', 'Zinc_(mg)', 'Copper_(mg)', 'Manganese_(mg)', 'Selenium_(mcg)', 'Vit_C_(mg)', 'Thiamin_(mg)', 'Riboflavin_(mg)', 'Niacin_(mg)', 'Vit_B6_(mg)', 'Vit_B12_(mcg)', 'Vit_A_IU', 'Vit_A_RAE', 'Vit_E_(mg)', 'Vit_D_mcg', 'Vit_D_IU', 'Vit_K_(mcg)', 'FA_Sat_(g)', 'FA_Mono_(g)', 'FA_Poly_(g)', 'Cholestrl_(mg)']\n",
      "   Water_(g)  Protein_(g)  Lipid_Tot_(g)  Ash_(g)  Carbohydrt_(g)  \\\n",
      "0      15.87         0.85          81.11     2.11            0.06   \n",
      "1      15.87         0.85          81.11     2.11            0.06   \n",
      "2       0.24         0.28          99.48     0.00            0.00   \n",
      "3      42.41        21.40          28.74     5.11            2.34   \n",
      "4      41.11        23.24          29.68     3.18            2.79   \n",
      "\n",
      "   Fiber_TD_(g)  Sugar_Tot_(g)  FA_Sat_(g)  FA_Mono_(g)  FA_Poly_(g)  \n",
      "0           0.0           0.06      51.368       21.021        3.043  \n",
      "1           0.0           0.06      50.489       23.426        3.012  \n",
      "2           0.0           0.00      61.924       28.732        3.694  \n",
      "3           0.0           0.50      18.669        7.778        0.800  \n",
      "4           0.0           0.51      18.764        8.598        0.784  \n"
     ]
    }
   ],
   "source": [
    "col_names = food_info.columns.tolist()\n",
    "print(col_names)\n",
    "gram_columns = []\n",
    "for c in col_names:\n",
    "    if c.endswith(\"(g)\"):\n",
    "        gram_columns.append(c)\n",
    "\n",
    "gram_df = food_info[gram_columns]\n",
    "print(gram_df.head())"
   ]
  },
  {
   "cell_type": "code",
   "execution_count": 31,
   "metadata": {
    "collapsed": false
   },
   "outputs": [
    {
     "name": "stdout",
     "output_type": "stream",
     "text": [
      "0        0.02\n",
      "1        0.16\n",
      "2        0.00\n",
      "3        0.31\n",
      "4        0.43\n",
      "5        0.50\n",
      "6        0.33\n",
      "7        0.64\n",
      "8        0.16\n",
      "9        0.21\n",
      "10       0.76\n",
      "11       0.07\n",
      "12       0.16\n",
      "13       0.15\n",
      "14       0.13\n",
      "15       0.14\n",
      "16       0.38\n",
      "17       0.44\n",
      "18       0.65\n",
      "19       0.23\n",
      "20       0.52\n",
      "21       0.24\n",
      "22       0.17\n",
      "23       0.13\n",
      "24       0.72\n",
      "25       0.44\n",
      "26       0.20\n",
      "27       0.22\n",
      "28       0.23\n",
      "29       0.41\n",
      "        ...  \n",
      "8588     9.00\n",
      "8589     0.30\n",
      "8590     0.10\n",
      "8591     1.63\n",
      "8592    34.82\n",
      "8593     2.28\n",
      "8594     0.17\n",
      "8595     0.17\n",
      "8596     4.86\n",
      "8597     0.25\n",
      "8598     0.23\n",
      "8599     0.13\n",
      "8600     0.11\n",
      "8601     0.68\n",
      "8602     7.83\n",
      "8603     3.11\n",
      "8604     0.30\n",
      "8605     0.18\n",
      "8606     0.80\n",
      "8607     0.04\n",
      "8608     3.87\n",
      "8609     0.05\n",
      "8610     0.38\n",
      "8611     5.20\n",
      "8612     1.50\n",
      "8613     1.40\n",
      "8614     0.58\n",
      "8615     3.60\n",
      "8616     3.50\n",
      "8617     1.40\n",
      "Name: Iron_(mg), dtype: float64\n",
      "0       0.00002\n",
      "1       0.00016\n",
      "2       0.00000\n",
      "3       0.00031\n",
      "4       0.00043\n",
      "5       0.00050\n",
      "6       0.00033\n",
      "7       0.00064\n",
      "8       0.00016\n",
      "9       0.00021\n",
      "10      0.00076\n",
      "11      0.00007\n",
      "12      0.00016\n",
      "13      0.00015\n",
      "14      0.00013\n",
      "15      0.00014\n",
      "16      0.00038\n",
      "17      0.00044\n",
      "18      0.00065\n",
      "19      0.00023\n",
      "20      0.00052\n",
      "21      0.00024\n",
      "22      0.00017\n",
      "23      0.00013\n",
      "24      0.00072\n",
      "25      0.00044\n",
      "26      0.00020\n",
      "27      0.00022\n",
      "28      0.00023\n",
      "29      0.00041\n",
      "         ...   \n",
      "8588    0.00900\n",
      "8589    0.00030\n",
      "8590    0.00010\n",
      "8591    0.00163\n",
      "8592    0.03482\n",
      "8593    0.00228\n",
      "8594    0.00017\n",
      "8595    0.00017\n",
      "8596    0.00486\n",
      "8597    0.00025\n",
      "8598    0.00023\n",
      "8599    0.00013\n",
      "8600    0.00011\n",
      "8601    0.00068\n",
      "8602    0.00783\n",
      "8603    0.00311\n",
      "8604    0.00030\n",
      "8605    0.00018\n",
      "8606    0.00080\n",
      "8607    0.00004\n",
      "8608    0.00387\n",
      "8609    0.00005\n",
      "8610    0.00038\n",
      "8611    0.00520\n",
      "8612    0.00150\n",
      "8613    0.00140\n",
      "8614    0.00058\n",
      "8615    0.00360\n",
      "8616    0.00350\n",
      "8617    0.00140\n",
      "Name: Iron_(mg), dtype: float64\n"
     ]
    }
   ],
   "source": [
    "print(food_info[\"Iron_(mg)\"])\n",
    "div_1000 = food_info[\"Iron_(mg)\"] / 1000\n",
    "print(div_1000)\n",
    "\n"
   ]
  },
  {
   "cell_type": "markdown",
   "metadata": {},
   "source": [
    "\n",
    "    food_info.sort_values(\"Sodium_(mg)\",inplace=False)\n",
    "    "
   ]
  },
  {
   "cell_type": "code",
   "execution_count": 32,
   "metadata": {
    "collapsed": false
   },
   "outputs": [
    {
     "name": "stdout",
     "output_type": "stream",
     "text": [
      "760     0.0\n",
      "758     0.0\n",
      "405     0.0\n",
      "761     0.0\n",
      "2269    0.0\n",
      "763     0.0\n",
      "764     0.0\n",
      "770     0.0\n",
      "774     0.0\n",
      "396     0.0\n",
      "395     0.0\n",
      "6827    0.0\n",
      "394     0.0\n",
      "393     0.0\n",
      "391     0.0\n",
      "390     0.0\n",
      "787     0.0\n",
      "788     0.0\n",
      "2270    0.0\n",
      "2231    0.0\n",
      "407     0.0\n",
      "748     0.0\n",
      "409     0.0\n",
      "747     0.0\n",
      "702     0.0\n",
      "703     0.0\n",
      "704     0.0\n",
      "705     0.0\n",
      "706     0.0\n",
      "707     0.0\n",
      "       ... \n",
      "8153    NaN\n",
      "8155    NaN\n",
      "8156    NaN\n",
      "8157    NaN\n",
      "8158    NaN\n",
      "8159    NaN\n",
      "8160    NaN\n",
      "8161    NaN\n",
      "8163    NaN\n",
      "8164    NaN\n",
      "8165    NaN\n",
      "8167    NaN\n",
      "8169    NaN\n",
      "8170    NaN\n",
      "8172    NaN\n",
      "8173    NaN\n",
      "8174    NaN\n",
      "8175    NaN\n",
      "8176    NaN\n",
      "8177    NaN\n",
      "8178    NaN\n",
      "8179    NaN\n",
      "8180    NaN\n",
      "8181    NaN\n",
      "8183    NaN\n",
      "8184    NaN\n",
      "8185    NaN\n",
      "8195    NaN\n",
      "8251    NaN\n",
      "8267    NaN\n",
      "Name: Sodium_(mg), dtype: float64\n"
     ]
    }
   ],
   "source": [
    "food_info.sort_values(\"Sodium_(mg)\",inplace=True)\n",
    "print(food_info[\"Sodium_(mg)\"])\n",
    "\n"
   ]
  },
  {
   "cell_type": "code",
   "execution_count": null,
   "metadata": {
    "collapsed": true
   },
   "outputs": [],
   "source": []
  }
 ],
 "metadata": {
  "anaconda-cloud": {},
  "kernelspec": {
   "display_name": "Python 3",
   "language": "python",
   "name": "python3"
  },
  "language_info": {
   "codemirror_mode": {
    "name": "ipython",
    "version": 3
   },
   "file_extension": ".py",
   "mimetype": "text/x-python",
   "name": "python",
   "nbconvert_exporter": "python",
   "pygments_lexer": "ipython3",
   "version": "3.5.2"
  }
 },
 "nbformat": 4,
 "nbformat_minor": 1
}
